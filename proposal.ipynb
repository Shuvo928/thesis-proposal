{
 "cells": [
  {
   "cell_type": "markdown",
   "id": "5dc95987",
   "metadata": {},
   "source": [
    "\n",
    "This is my undergraduate thesis proposal which represents the journey of my research work. My first research wrok is Breast Cancer detection."
   ]
  }
 ],
 "metadata": {
  "kernelspec": {
   "display_name": ".venv",
   "language": "python",
   "name": "python3"
  },
  "language_info": {
   "name": "python",
   "version": "3.12.10"
  }
 },
 "nbformat": 4,
 "nbformat_minor": 5
}
